{
 "cells": [
  {
   "cell_type": "code",
   "execution_count": 1,
   "id": "1dfe95da-b195-4b0d-9b01-dd2209f07030",
   "metadata": {},
   "outputs": [],
   "source": [
    "# Numpy Assignment\n",
    "import numpy as np\n",
    "import pandas as pd"
   ]
  },
  {
   "cell_type": "code",
   "execution_count": 13,
   "id": "a664211d-2585-4c6f-a37d-f0ea9bd1ee1b",
   "metadata": {},
   "outputs": [
    {
     "name": "stdout",
     "output_type": "stream",
     "text": [
      "int32\n"
     ]
    }
   ],
   "source": [
    "# Question 1.) Create a NumPy array 'arr' of integers from 0 to 5 and print its data type.\n",
    "\n",
    "arr = np.array([0,1,2,3,4,5])\n",
    "print(arr.dtype)"
   ]
  },
  {
   "cell_type": "code",
   "execution_count": 17,
   "id": "467a90bc-6a8e-4446-bf57-2fb1d1940a6c",
   "metadata": {},
   "outputs": [
    {
     "name": "stdout",
     "output_type": "stream",
     "text": [
      "float64\n"
     ]
    }
   ],
   "source": [
    "# Question 2.) Given a NumPy array 'arr', check if its data type is float64.\n",
    "# arr = np.array([1.5, 2.6, 3.7])\n",
    "\n",
    "arr = np.array([1.5, 2.6, 3.7])\n",
    "print(arr.dtype)\n",
    "#Yes data type of the array is float64"
   ]
  },
  {
   "cell_type": "code",
   "execution_count": 27,
   "id": "20bfbb0f-58e4-4ac9-a67a-ac5c5fbef8b0",
   "metadata": {},
   "outputs": [
    {
     "name": "stdout",
     "output_type": "stream",
     "text": [
      "complex128\n"
     ]
    }
   ],
   "source": [
    "# Question 3.) Create a NumPy array 'arr' with a data type of complex128 containing three complex numbers.\n",
    "\n",
    "arr = np.array([2+1j, 3+1j, 4+1j])\n",
    "print(arr.dtype)"
   ]
  },
  {
   "cell_type": "code",
   "execution_count": 41,
   "id": "07593901-e9f2-4955-8e02-0a907a86368d",
   "metadata": {},
   "outputs": [
    {
     "name": "stdout",
     "output_type": "stream",
     "text": [
      "float32\n"
     ]
    }
   ],
   "source": [
    "# Question 4.) Convert an existing NumPy array 'arr' of integers to float32 data type.\n",
    "\n",
    "arr = np.array([1,2,3,4,5], int)\n",
    "arr1 = arr.astype(np.float32)\n",
    "print(arr1.dtype)"
   ]
  },
  {
   "cell_type": "code",
   "execution_count": 45,
   "id": "8a9b5c20-58fa-4b4a-90ab-f7c4c443742b",
   "metadata": {},
   "outputs": [
    {
     "name": "stdout",
     "output_type": "stream",
     "text": [
      "float32\n",
      "[1.8787848e+00 2.3875847e+00 3.0000000e+00 8.5858374e+19]\n"
     ]
    }
   ],
   "source": [
    "# Question 5.) Given a NumPy array 'arr' with float64 data type, convert it to float32 to reduce decimal precision.\n",
    "arr = np.array([1.87878475845846, 2.38758478475878475, 3,85858374734984928498], np.float64)\n",
    "arr1 = arr.astype(np.float32)\n",
    "print(arr1.dtype)\n",
    "print(arr1)"
   ]
  },
  {
   "cell_type": "code",
   "execution_count": 51,
   "id": "3501de36-a5ea-4884-9dc3-ec178d33bf7b",
   "metadata": {},
   "outputs": [
    {
     "name": "stdout",
     "output_type": "stream",
     "text": [
      "Shape:(5,), Size:5, Data:int32\n"
     ]
    }
   ],
   "source": [
    "# Question 6.) Write a function array_attributes that takes a NumPy array as input and returns its shape, size, and data type.\n",
    "\n",
    "def array_attributes(arr):\n",
    "    return f\"Shape:{arr.shape}, Size:{arr.size}, Data:{arr.dtype}\"\n",
    "\n",
    "arr = np.array([1,2,3,4,5])\n",
    "print(array_attributes(arr))"
   ]
  },
  {
   "cell_type": "code",
   "execution_count": 61,
   "id": "12c6d8f5-0825-45f9-a854-e7cae8d0230b",
   "metadata": {},
   "outputs": [
    {
     "name": "stdout",
     "output_type": "stream",
     "text": [
      "Dimensionality : 2\n"
     ]
    }
   ],
   "source": [
    "# Question 7.) Create a function array_dimension that takes a NumPy array as input and returns its dimensionality.\n",
    "\n",
    "def array_dimension(arr):\n",
    "    return f\"Dimensionality : {arr.ndim}\"\n",
    "\n",
    "arr = np.array([[1,2,3,4,5], [6,7,8,9,10]])\n",
    "print(array_dimension(arr))"
   ]
  },
  {
   "cell_type": "code",
   "execution_count": 65,
   "id": "2462647b-cc04-42c9-b0db-dea275d663d2",
   "metadata": {},
   "outputs": [
    {
     "name": "stdout",
     "output_type": "stream",
     "text": [
      "(4, 40)\n"
     ]
    }
   ],
   "source": [
    "# Question 8.) Design a function item_size_info that takes a NumPy array as input and returns the item size and the total size in bytes.\n",
    "\n",
    "def item_size_info(arr):\n",
    "    return arr.itemsize, arr.nbytes\n",
    "\n",
    "arr = np.array([[1,2,3,4,5], [6,7,8,9,10]])\n",
    "print(item_size_info(arr))"
   ]
  },
  {
   "cell_type": "code",
   "execution_count": 69,
   "id": "4559ee0f-dcf0-4c3d-8b4a-ecdca056a27e",
   "metadata": {},
   "outputs": [
    {
     "name": "stdout",
     "output_type": "stream",
     "text": [
      "int32\n",
      "(20, 4)\n"
     ]
    }
   ],
   "source": [
    "# Question 9.) Create a function array_strides that takes a NumPy array as input and returns the strides of the array.\n",
    "\n",
    "def array_strides(arr):\n",
    "    return arr.strides\n",
    "\n",
    "arr = np.array([[1,2,3,4,5], [6,7,8,9,10]])\n",
    "print(arr.dtype)\n",
    "print(array_strides(arr))"
   ]
  },
  {
   "cell_type": "code",
   "execution_count": 71,
   "id": "d82869de-90c7-494e-a2d5-d18efcd64e4d",
   "metadata": {},
   "outputs": [
    {
     "name": "stdout",
     "output_type": "stream",
     "text": [
      "((2, 5), (20, 4))\n"
     ]
    }
   ],
   "source": [
    "# Question 10.) Design a function shape_stride_relationship that takes a NumPy array as input and returns the shape and strides of the array.\n",
    "\n",
    "def shape_stride_relationship(arr):\n",
    "    return arr.shape, arr.strides\n",
    "\n",
    "arr = np.array([[1,2,3,4,5], [6,7,8,9,10]])\n",
    "print(shape_stride_relationship(arr))"
   ]
  },
  {
   "cell_type": "code",
   "execution_count": 81,
   "id": "bf8077d5-ec86-4a4a-944a-8d3aa6b10acd",
   "metadata": {},
   "outputs": [
    {
     "name": "stdout",
     "output_type": "stream",
     "text": [
      "[0. 0. 0. 0. 0.]\n"
     ]
    }
   ],
   "source": [
    "# Question 11.) Create a function `create_zeros_array` that takes an integer `n` as input and returns a NumPy array of zeros with `n` elements.\n",
    "\n",
    "def create_zeros_array(n):\n",
    "    return np.zeros(n)\n",
    "\n",
    "arr = create_zeros_array(5)\n",
    "print(arr)"
   ]
  },
  {
   "cell_type": "code",
   "execution_count": 85,
   "id": "6afc2f0e-5a2a-4217-91e8-1ab78af3a000",
   "metadata": {},
   "outputs": [
    {
     "name": "stdout",
     "output_type": "stream",
     "text": [
      "[[1. 1. 1. 1. 1.]\n",
      " [1. 1. 1. 1. 1.]\n",
      " [1. 1. 1. 1. 1.]\n",
      " [1. 1. 1. 1. 1.]]\n"
     ]
    }
   ],
   "source": [
    "# Question 12.) Write a function `create_ones_matrix` that takes integers `rows` and `cols` as inputs and generates a 2D NumPy array filled with ones \n",
    "#               of size `rows x cols`.\n",
    "\n",
    "def create_ones_matrix(rows, cols):\n",
    "    return np.ones((rows,cols))\n",
    "\n",
    "arr = create_ones_matrix(4,5)\n",
    "print(arr)"
   ]
  },
  {
   "cell_type": "code",
   "execution_count": 89,
   "id": "129c2ca7-2d22-4e90-b758-73ac4129625b",
   "metadata": {},
   "outputs": [
    {
     "name": "stdout",
     "output_type": "stream",
     "text": [
      "[1.  1.5 2.  2.5 3.  3.5 4.  4.5 5.  5.5 6.  6.5 7.  7.5 8.  8.5 9.  9.5]\n"
     ]
    }
   ],
   "source": [
    "# Question 13.) Write a function `generate_range_array` that takes three integers start, stop, and step as arguments and creates a NumPy array \n",
    "#               with a range starting from `start`, ending at stop (exclusive), and with the specified `step`.\n",
    "\n",
    "def generate_range_array(start, stop, step):\n",
    "    return np.arange(start,stop,step)\n",
    "\n",
    "arr = generate_range_array(1,10,0.5)\n",
    "print(arr)"
   ]
  },
  {
   "cell_type": "code",
   "execution_count": 97,
   "id": "598b3e52-c72e-4e01-98eb-4e42f0748ce6",
   "metadata": {},
   "outputs": [
    {
     "name": "stdout",
     "output_type": "stream",
     "text": [
      "[0.1 0.2 0.3 0.4 0.5]\n"
     ]
    }
   ],
   "source": [
    "# Question 14.) Design a function `generate_linear_space` that takes two floats `start`, `stop`, and an integer `num` as arguments and generates a \n",
    "#               NumPy array with num equally spaced values between `start` and `stop` (inclusive).\n",
    "\n",
    "def generate_linear_space(start, stop, num):\n",
    "    return np.linspace(start, stop, num)\n",
    "\n",
    "arr = generate_linear_space(0.1,0.5,5)\n",
    "print(arr)"
   ]
  },
  {
   "cell_type": "code",
   "execution_count": 105,
   "id": "47d78235-ec1c-49d8-a803-1449cfcb1fdc",
   "metadata": {},
   "outputs": [
    {
     "name": "stdout",
     "output_type": "stream",
     "text": [
      "[[1 0 0 0 0]\n",
      " [0 1 0 0 0]\n",
      " [0 0 1 0 0]\n",
      " [0 0 0 1 0]\n",
      " [0 0 0 0 1]]\n"
     ]
    }
   ],
   "source": [
    "# Question 15.) Create a function `create_identity_matrix` that takes an integer `n` as input and generates a square identity matrix of size `n x n` \n",
    "#               using `numpy.eye`.\n",
    "\n",
    "def create_identity_matrix(n):\n",
    "    return np.eye(n, dtype = int)\n",
    "\n",
    "arr = create_identity_matrix(5)\n",
    "print(arr)"
   ]
  },
  {
   "cell_type": "code",
   "execution_count": 111,
   "id": "32d41b24-2036-450e-b4bb-5e2eb708ebdd",
   "metadata": {},
   "outputs": [
    {
     "name": "stdout",
     "output_type": "stream",
     "text": [
      "<class 'numpy.ndarray'>\n",
      "[1 2 3 4 5]\n"
     ]
    }
   ],
   "source": [
    "# Question 16.) Write a function that takes a Python list and converts it into a NumPy array.\n",
    "\n",
    "def convert(lis):\n",
    "    return np.array(lis)\n",
    "\n",
    "lis = [1,2,3,4,5]\n",
    "arr = convert(lis)\n",
    "print(type(arr))\n",
    "print(arr)"
   ]
  },
  {
   "cell_type": "code",
   "execution_count": 129,
   "id": "aa7798ca-e44b-4527-8725-819d7af47750",
   "metadata": {},
   "outputs": [
    {
     "name": "stdout",
     "output_type": "stream",
     "text": [
      "Original array data type int32\n",
      "View array shape (2, 5)\n",
      "View array data type int32\n",
      "[[ 1  2  3  4  5]\n",
      " [ 6  7  8  9 10]]\n"
     ]
    }
   ],
   "source": [
    "# Question 17.) Create a NumPy array and demonstrate the use of `numpy.view` to create a new array object with the same data.\n",
    "\n",
    "arr = np.array([1,2,3,4,5,6,7,8,9,10])\n",
    "print(f\"Original array data type {arr.dtype}\")\n",
    "\n",
    "view_arr = arr.view().reshape((2,5))\n",
    "\n",
    "print(f\"View array shape {view_arr.shape}\")\n",
    "print(f\"View array data type {view_arr.dtype}\")\n",
    "print(view_arr)"
   ]
  },
  {
   "cell_type": "code",
   "execution_count": 151,
   "id": "2a79ea2b-93db-492b-a56f-b1726c1604c7",
   "metadata": {},
   "outputs": [
    {
     "name": "stdout",
     "output_type": "stream",
     "text": [
      "[[ 1  2  3  4  5]\n",
      " [ 6  7  8  9 10]]\n"
     ]
    }
   ],
   "source": [
    "# Question 18.) Write a function that takes two NumPy arrays and concatenates them along a specified axis.\n",
    "\n",
    "def concat(arr1,arr2):\n",
    "    return np.concatenate((arr1,arr2), axis = 0)\n",
    "\n",
    "arr1 = np.array([[1,2,3,4,5]])\n",
    "arr2 = np.array([[6,7,8,9,10]])\n",
    "\n",
    "arr = concat(arr1,arr2)\n",
    "print(arr)"
   ]
  },
  {
   "cell_type": "code",
   "execution_count": 161,
   "id": "8e653e20-1f6c-4ba0-97c9-054b6e4aef42",
   "metadata": {},
   "outputs": [
    {
     "name": "stdout",
     "output_type": "stream",
     "text": [
      "[[ 1  2  3  7  8  9 10]\n",
      " [ 4  5  6 11 12 13 14]]\n"
     ]
    }
   ],
   "source": [
    "# Question 19.) Create two NumPy arrays with different shapes and concatenate them horizontally using `numpy.concatenate`.\n",
    "\n",
    "def concat(arr1,arr2):\n",
    "    return np.concatenate((arr1,arr2), axis = 1)\n",
    "\n",
    "arr1 = np.array([[1,2,3], [4,5,6]])\n",
    "arr2 = np.array([[7,8,9,10], [11,12,13,14]])\n",
    "\n",
    "arr = concat(arr1,arr2)\n",
    "print(arr)"
   ]
  },
  {
   "cell_type": "code",
   "execution_count": 163,
   "id": "b8352dcf-95e2-4690-9a80-b05e079c6462",
   "metadata": {},
   "outputs": [
    {
     "name": "stdout",
     "output_type": "stream",
     "text": [
      "[[ 1  2  3]\n",
      " [ 4  5  6]\n",
      " [ 7  8  9]\n",
      " [10 11 12]\n",
      " [13 14 15]\n",
      " [16 17 18]]\n"
     ]
    }
   ],
   "source": [
    "# Question 20.) Write a function that vertically stacks multiple NumPy arrays given as a list.\n",
    "\n",
    "def stacks(arrays):\n",
    "    return np.vstack(arrays)\n",
    "\n",
    "arr1 = np.array([[1,2,3], [4,5,6]])\n",
    "arr2 = np.array([[7,8,9], [10,11,12]])\n",
    "arr3 = np.array([[13,14,15], [16,17,18]])\n",
    "\n",
    "arr = stacks([arr1,arr2,arr3])\n",
    "print(arr)"
   ]
  },
  {
   "cell_type": "code",
   "execution_count": 173,
   "id": "880fd20b-54de-4648-ad46-d5fc0a473e26",
   "metadata": {},
   "outputs": [
    {
     "name": "stdout",
     "output_type": "stream",
     "text": [
      "[1 3 5 7 9]\n"
     ]
    }
   ],
   "source": [
    "# Question 21.) Write a Python function using NumPy to create an array of integers within a specified range (inclusive) with a given step size.\n",
    "\n",
    "def create(start, stop, step):\n",
    "    if (stop-start)%step == 0:\n",
    "        stop += start\n",
    "\n",
    "    return np.arange(start,stop,step)\n",
    "\n",
    "arr = create(1,9,2)\n",
    "print(arr)"
   ]
  },
  {
   "cell_type": "code",
   "execution_count": 175,
   "id": "a3692960-f3df-44ef-a309-b14cbf70bb58",
   "metadata": {},
   "outputs": [
    {
     "name": "stdout",
     "output_type": "stream",
     "text": [
      "[0.         0.11111111 0.22222222 0.33333333 0.44444444 0.55555556\n",
      " 0.66666667 0.77777778 0.88888889 1.        ]\n"
     ]
    }
   ],
   "source": [
    "# Question 22.) Write a Python function using NumPy to generate an array of 10 equally spaced values between 0 and 1 (inclusive).\n",
    "\n",
    "def create():\n",
    "    return np.linspace(0,1,10)\n",
    "\n",
    "arr = create()\n",
    "print(arr)"
   ]
  },
  {
   "cell_type": "code",
   "execution_count": 181,
   "id": "0d6be764-6168-4a50-a9e5-56412077e029",
   "metadata": {},
   "outputs": [
    {
     "name": "stdout",
     "output_type": "stream",
     "text": [
      "[1.00000000e+001 5.62341325e+250             inf             inf\n",
      "             inf]\n"
     ]
    }
   ],
   "source": [
    "# Question 23.) Write a Python function using NumPy to create an array of 5 logarithmically spaced values between 1 and 1000 (inclusive).\n",
    "\n",
    "def create():\n",
    "    return np.logspace(1,1000,5)\n",
    "\n",
    "arr = create()\n",
    "print(arr)"
   ]
  },
  {
   "cell_type": "code",
   "execution_count": 191,
   "id": "c1d4910d-380d-4d25-9981-ad7c12f066a0",
   "metadata": {},
   "outputs": [
    {
     "name": "stdout",
     "output_type": "stream",
     "text": [
      "[[98 62 86]\n",
      " [38 84 97]\n",
      " [ 7 99  6]\n",
      " [62 41 73]\n",
      " [93 66 34]]\n"
     ]
    },
    {
     "data": {
      "text/html": [
       "<div>\n",
       "<style scoped>\n",
       "    .dataframe tbody tr th:only-of-type {\n",
       "        vertical-align: middle;\n",
       "    }\n",
       "\n",
       "    .dataframe tbody tr th {\n",
       "        vertical-align: top;\n",
       "    }\n",
       "\n",
       "    .dataframe thead th {\n",
       "        text-align: right;\n",
       "    }\n",
       "</style>\n",
       "<table border=\"1\" class=\"dataframe\">\n",
       "  <thead>\n",
       "    <tr style=\"text-align: right;\">\n",
       "      <th></th>\n",
       "      <th>0</th>\n",
       "      <th>1</th>\n",
       "      <th>2</th>\n",
       "    </tr>\n",
       "  </thead>\n",
       "  <tbody>\n",
       "    <tr>\n",
       "      <th>0</th>\n",
       "      <td>98</td>\n",
       "      <td>62</td>\n",
       "      <td>86</td>\n",
       "    </tr>\n",
       "    <tr>\n",
       "      <th>1</th>\n",
       "      <td>38</td>\n",
       "      <td>84</td>\n",
       "      <td>97</td>\n",
       "    </tr>\n",
       "    <tr>\n",
       "      <th>2</th>\n",
       "      <td>7</td>\n",
       "      <td>99</td>\n",
       "      <td>6</td>\n",
       "    </tr>\n",
       "    <tr>\n",
       "      <th>3</th>\n",
       "      <td>62</td>\n",
       "      <td>41</td>\n",
       "      <td>73</td>\n",
       "    </tr>\n",
       "    <tr>\n",
       "      <th>4</th>\n",
       "      <td>93</td>\n",
       "      <td>66</td>\n",
       "      <td>34</td>\n",
       "    </tr>\n",
       "  </tbody>\n",
       "</table>\n",
       "</div>"
      ],
      "text/plain": [
       "    0   1   2\n",
       "0  98  62  86\n",
       "1  38  84  97\n",
       "2   7  99   6\n",
       "3  62  41  73\n",
       "4  93  66  34"
      ]
     },
     "execution_count": 191,
     "metadata": {},
     "output_type": "execute_result"
    }
   ],
   "source": [
    "# Question 24.) Create a Pandas DataFrame using a NumPy array that contains 5 rows and 3 columns, where the values are random integers between 1 and 100.\n",
    "\n",
    "arr = np.random.randint(1,100, (5,3))\n",
    "print(arr)\n",
    "\n",
    "df = pd.DataFrame(arr)\n",
    "df"
   ]
  },
  {
   "cell_type": "code",
   "execution_count": 209,
   "id": "5049afab-5eb2-4247-a133-5be033a8ab8e",
   "metadata": {},
   "outputs": [
    {
     "data": {
      "text/html": [
       "<div>\n",
       "<style scoped>\n",
       "    .dataframe tbody tr th:only-of-type {\n",
       "        vertical-align: middle;\n",
       "    }\n",
       "\n",
       "    .dataframe tbody tr th {\n",
       "        vertical-align: top;\n",
       "    }\n",
       "\n",
       "    .dataframe thead th {\n",
       "        text-align: right;\n",
       "    }\n",
       "</style>\n",
       "<table border=\"1\" class=\"dataframe\">\n",
       "  <thead>\n",
       "    <tr style=\"text-align: right;\">\n",
       "      <th></th>\n",
       "      <th>0</th>\n",
       "      <th>1</th>\n",
       "      <th>2</th>\n",
       "      <th>3</th>\n",
       "      <th>4</th>\n",
       "    </tr>\n",
       "  </thead>\n",
       "  <tbody>\n",
       "    <tr>\n",
       "      <th>0</th>\n",
       "      <td>0</td>\n",
       "      <td>2</td>\n",
       "      <td>4</td>\n",
       "      <td>8</td>\n",
       "      <td>6</td>\n",
       "    </tr>\n",
       "    <tr>\n",
       "      <th>1</th>\n",
       "      <td>0</td>\n",
       "      <td>5</td>\n",
       "      <td>53</td>\n",
       "      <td>2</td>\n",
       "      <td>2</td>\n",
       "    </tr>\n",
       "    <tr>\n",
       "      <th>2</th>\n",
       "      <td>0</td>\n",
       "      <td>65</td>\n",
       "      <td>7</td>\n",
       "      <td>3</td>\n",
       "      <td>3</td>\n",
       "    </tr>\n",
       "  </tbody>\n",
       "</table>\n",
       "</div>"
      ],
      "text/plain": [
       "   0   1   2  3  4\n",
       "0  0   2   4  8  6\n",
       "1  0   5  53  2  2\n",
       "2  0  65   7  3  3"
      ]
     },
     "execution_count": 209,
     "metadata": {},
     "output_type": "execute_result"
    }
   ],
   "source": [
    "# Question 25.) Write a function that takes a Pandas DataFrame and replaces all negative values in a specific column with zeros.\n",
    "#               Use NumPy operations within the Pandas DataFrame.\n",
    "\n",
    "def replace_zero(df,column):\n",
    "    df[column] = np.where(df[column] < 0, 0, df[column])\n",
    "\n",
    "df = pd.DataFrame([[-1,2,4,8,6], [-3,5,53,2,2], [-3,65,7,3,3]])\n",
    "\n",
    "replace_zero(df,0)\n",
    "df"
   ]
  },
  {
   "cell_type": "code",
   "execution_count": 213,
   "id": "28e2efdd-96c8-4881-87c8-c6d9a7dea6ac",
   "metadata": {},
   "outputs": [
    {
     "name": "stdout",
     "output_type": "stream",
     "text": [
      "30\n"
     ]
    }
   ],
   "source": [
    "# Question 26.) Access the 3rd element from the given NumPy array.\n",
    "#                arr = np.array([10,20,30,40,50])\n",
    "\n",
    "arr = np.array([10,20,30,40,50])\n",
    "print(arr[2])"
   ]
  },
  {
   "cell_type": "code",
   "execution_count": 215,
   "id": "ae6064cf-17bf-4644-a3c6-a3d84766063d",
   "metadata": {},
   "outputs": [
    {
     "name": "stdout",
     "output_type": "stream",
     "text": [
      "6\n"
     ]
    }
   ],
   "source": [
    "# Question 27.) Retrieve the element at index (1, 2) from the 2D NumPy array.\n",
    "#               arr_2d = np.array([[1,2,3], [4,5,6], [7,8,9]])\n",
    "\n",
    "arr_2d = np.array([[1,2,3], [4,5,6], [7,8,9]])\n",
    "print(arr_2d[1][2])"
   ]
  },
  {
   "cell_type": "code",
   "execution_count": 221,
   "id": "24055dc6-1af2-4fb1-bf8b-d9f4593edde0",
   "metadata": {},
   "outputs": [
    {
     "name": "stdout",
     "output_type": "stream",
     "text": [
      "[ 8 10  7]\n"
     ]
    }
   ],
   "source": [
    "# Question 28.) Using boolean indexing, extract elements greater than 5 from the given NumPy array.\n",
    "\n",
    "arr = np.array([3,8,2,10,5,7])\n",
    "\n",
    "print(arr[arr > 5])"
   ]
  },
  {
   "cell_type": "code",
   "execution_count": 225,
   "id": "b73a9649-0d9b-4570-83ec-d999fa83a694",
   "metadata": {},
   "outputs": [
    {
     "name": "stdout",
     "output_type": "stream",
     "text": [
      "[3 4 5 6]\n"
     ]
    }
   ],
   "source": [
    "# Question 29.) Perform basic slicing to extract elements from index 2 to 5 (inclusive) from the given NumPy array.\n",
    "\n",
    "arr = np.array([1,2,3,4,5,6,7,8,9])\n",
    "print(arr[2:6])"
   ]
  },
  {
   "cell_type": "code",
   "execution_count": 229,
   "id": "efe3d268-d7fc-4112-bf6b-d21d5479f0ae",
   "metadata": {},
   "outputs": [
    {
     "name": "stdout",
     "output_type": "stream",
     "text": [
      "[[2 3]\n",
      " [5 6]]\n"
     ]
    }
   ],
   "source": [
    "# Question 30.) Slice the 2D NumPy array to extract the sub-array `[[2, 3], [5, 6]]` from the given array.\n",
    "\n",
    "arr_2d = np.array([[1,2,3],\n",
    "                   [4,5,6],\n",
    "                   [7,8,9]])\n",
    "\n",
    "print(arr_2d[0:2, [1,2]])"
   ]
  },
  {
   "cell_type": "code",
   "execution_count": 259,
   "id": "5325575b-4dbe-4ff2-8d34-bd102a03a47f",
   "metadata": {},
   "outputs": [
    {
     "name": "stdout",
     "output_type": "stream",
     "text": [
      "[30 40 80]\n",
      "[30 40 80]\n"
     ]
    }
   ],
   "source": [
    "# Question 31.) Write a NumPy function to extract elements in specific order from a given 2D array based on indices provided in another array.\n",
    "\n",
    "# NAIVE APPROACH\n",
    "def extract(arr,indices):\n",
    "\n",
    "    rows = [0] * indices.shape[0]\n",
    "    cols = [0] * indices.shape[0]\n",
    "    \n",
    "    for i in range(indices.shape[0]):\n",
    "        rows[i] = indices[i][0]\n",
    "        cols[i] = indices[i][1]\n",
    "\n",
    "    sliced_arr = np.zeros(len(rows), int)\n",
    "    for i in range(len(rows)):\n",
    "        sliced_arr[i] = arr[rows[i]][cols[i]]\n",
    "\n",
    "    return sliced_arr\n",
    "        \n",
    "\n",
    "# A BETTER APPROACH\n",
    "def extract_array(arr,indices):\n",
    "    rows, cols = indices[:,0], indices[:,1]\n",
    "\n",
    "    sliced_arr = arr[rows, cols]\n",
    "\n",
    "    return sliced_arr\n",
    "\n",
    "\n",
    "# Main function\n",
    "if __name__ == \"__main__\":\n",
    "    arr = np.array([[10, 20, 30], \n",
    "                [40, 50, 60], \n",
    "                [70, 80, 90]])\n",
    "\n",
    "    indices = np.array([[0, 2],\n",
    "                        [1, 0],\n",
    "                        [2, 1]])\n",
    "\n",
    "    print(extract(arr,indices))\n",
    "    print(extract_array(arr,indices))"
   ]
  },
  {
   "cell_type": "code",
   "execution_count": 261,
   "id": "00caa7bd-ad80-463f-8199-27f26d3d8e7d",
   "metadata": {},
   "outputs": [
    {
     "name": "stdout",
     "output_type": "stream",
     "text": [
      "[40 50]\n"
     ]
    }
   ],
   "source": [
    "# Question 32.) Create a NumPy function that filters elements greater than a threshold from a given 1D array using boolean indexing.\n",
    "\n",
    "def filter(arr,threshold):\n",
    "    return arr[arr>threshold]\n",
    "\n",
    "arr = np.array([10,20,30,40,50])\n",
    "threshold = 30\n",
    "print(filter(arr,threshold))"
   ]
  },
  {
   "cell_type": "code",
   "execution_count": 265,
   "id": "1ee40ad0-0d67-43f8-9a56-01c49e8f0264",
   "metadata": {},
   "outputs": [
    {
     "name": "stdout",
     "output_type": "stream",
     "text": [
      "[ 60  80 160]\n"
     ]
    }
   ],
   "source": [
    "# Question 33.) Develop a NumPy function that extracts specific elements from a 3D array using indices provided in three\n",
    "#               separate arrays for each dimension.\n",
    "\n",
    "def extract(arr,rows,cols,depths):\n",
    "    return arr[rows,cols,depths]\n",
    "\n",
    "arr = np.array([[[10, 20, 30],\n",
    "                 [40, 50, 60]],\n",
    "                \n",
    "                [[70, 80, 90],\n",
    "                 [100, 110, 120]],\n",
    "                \n",
    "                [[130, 140, 150],\n",
    "                 [160, 170, 180]]])\n",
    "\n",
    "rows = np.array([0, 1, 2])\n",
    "cols = np.array([1, 0, 1])\n",
    "depths = np.array([2, 1, 0])\n",
    "\n",
    "print(extract(arr,rows,cols,depths))"
   ]
  },
  {
   "cell_type": "code",
   "execution_count": 269,
   "id": "e61db4a9-cd5e-40d1-9300-8362de40b963",
   "metadata": {},
   "outputs": [
    {
     "name": "stdout",
     "output_type": "stream",
     "text": [
      "[30 40 50 60]\n"
     ]
    }
   ],
   "source": [
    "# Question 34.) Write a NumPy function that returns elements from an array where both two conditions are satisfied using boolean indexing.\n",
    "\n",
    "def filter(arr,con1,con2):\n",
    "    return arr[con1&con2]\n",
    "\n",
    "arr = np.array([10,20,30,40,50,60])\n",
    "con1 = arr > 20\n",
    "con2 = arr%2==0\n",
    "\n",
    "print(filter(arr,con1,con2))"
   ]
  },
  {
   "cell_type": "code",
   "execution_count": 289,
   "id": "55e0b394-31b5-4669-a5af-d088bc7d4e72",
   "metadata": {},
   "outputs": [
    {
     "name": "stdout",
     "output_type": "stream",
     "text": [
      "[120 110]\n"
     ]
    }
   ],
   "source": [
    "# Question 35.) Create a NumPy function that extracts elements from a 2D array using row and column indices provided in separate arrays.\n",
    "\n",
    "def extract(arr,arr1,arr2):\n",
    "    return arr[arr1,arr2]\n",
    "\n",
    "arr = np.array([[10, 20, 30],\n",
    "                [40, 50, 60],\n",
    "                [70, 80, 90],\n",
    "                [100, 110, 120]])\n",
    "\n",
    "arr1 = np.array([3,3])\n",
    "arr2 = np.array([2,1])\n",
    "\n",
    "print(extract(arr,arr1,arr2))"
   ]
  },
  {
   "cell_type": "code",
   "execution_count": 305,
   "id": "fe7584f7-a400-42f7-8c51-8d5cbdb52566",
   "metadata": {},
   "outputs": [
    {
     "data": {
      "text/plain": [
       "array([[5, 5, 5],\n",
       "       [5, 5, 5],\n",
       "       [5, 5, 5]])"
      ]
     },
     "execution_count": 305,
     "metadata": {},
     "output_type": "execute_result"
    }
   ],
   "source": [
    "# Question 36.) Given an array arr of shape (3, 3), add a scalar value of 5 to each element using NumPy broadcasting.\n",
    "\n",
    "arr = np.zeros((3,3), int)\n",
    "arr + 5"
   ]
  },
  {
   "cell_type": "code",
   "execution_count": 317,
   "id": "a6a9e315-efc7-4025-a20b-0e5d6ee2c9bb",
   "metadata": {},
   "outputs": [
    {
     "name": "stdout",
     "output_type": "stream",
     "text": [
      "[[6 7 7]]\n",
      "[[6 7 9 5]\n",
      " [2 8 3 1]\n",
      " [8 3 9 2]]\n"
     ]
    },
    {
     "data": {
      "text/plain": [
       "array([[106, 119, 138,  51]])"
      ]
     },
     "execution_count": 317,
     "metadata": {},
     "output_type": "execute_result"
    }
   ],
   "source": [
    "# Question 37.) Consider two arrays arr1 of shape (1, 3) and arr2 of shape (3, 4). Multiply each row of arr2 by the corresponding element in \n",
    "#               arr1 using NumPy broadcasting.\n",
    "\n",
    "arr1 = np.random.randint(1,10,(1,3))\n",
    "print(arr1)\n",
    "\n",
    "arr2 = np.random.randint(1,10,(3,4))\n",
    "print(arr2)\n",
    "\n",
    "arr1 @ arr2"
   ]
  },
  {
   "cell_type": "code",
   "execution_count": 337,
   "id": "1c302f5e-b0ee-4e45-8447-d4d0f64e42d6",
   "metadata": {},
   "outputs": [
    {
     "name": "stdout",
     "output_type": "stream",
     "text": [
      "Array 1 [7 9 7 9]\n",
      "Array 2 [[2 8 3]\n",
      " [6 7 3]\n",
      " [4 8 2]\n",
      " [6 3 4]]\n",
      "Added array\n"
     ]
    },
    {
     "data": {
      "text/plain": [
       "array([[ 9, 17, 10],\n",
       "       [13, 16, 10],\n",
       "       [11, 17,  9],\n",
       "       [13, 12, 11]])"
      ]
     },
     "execution_count": 337,
     "metadata": {},
     "output_type": "execute_result"
    }
   ],
   "source": [
    "# Question 38.) Given a 1D array arr1 of shape (1, 4) and a 2D array arr2 of shape (4, 3), add arr1 to each row of arr2 using NumPy broadcasting.\n",
    "\n",
    "arr1 = np.random.randint(1,10,(4))\n",
    "print('Array 1',arr1)\n",
    "\n",
    "arr2 = np.random.randint(1,10,(4,3))\n",
    "print('Array 2',arr2)\n",
    "\n",
    "sliced_array = arr1[:arr2.shape[1]]\n",
    "print(\"Added array\")\n",
    "arr2 + sliced_array"
   ]
  },
  {
   "cell_type": "code",
   "execution_count": 339,
   "id": "917c520d-f7df-4c73-8bc2-7455e869e508",
   "metadata": {},
   "outputs": [
    {
     "data": {
      "text/plain": [
       "array([[14, 13, 10],\n",
       "       [ 6,  5,  2],\n",
       "       [13, 12,  9]])"
      ]
     },
     "execution_count": 339,
     "metadata": {},
     "output_type": "execute_result"
    }
   ],
   "source": [
    "# Question 39.) Consider two arrays arr1 of shape (3, 1) and arr2 of shape (1, 3). Add these arrays using NumPy broadcasting.\n",
    "\n",
    "arr1 = np.random.randint(1,10,(3,1))\n",
    "arr2 = np.random.randint(1,10,(1,3))\n",
    "\n",
    "arr1+arr2"
   ]
  },
  {
   "cell_type": "code",
   "execution_count": 343,
   "id": "0714fb9e-62d7-4906-95cf-7c9d96d1b3c8",
   "metadata": {},
   "outputs": [
    {
     "data": {
      "text/plain": [
       "array([[ 5, 14],\n",
       "       [20, 32]])"
      ]
     },
     "execution_count": 343,
     "metadata": {},
     "output_type": "execute_result"
    }
   ],
   "source": [
    "# Question 40.) Given arrays arr1 of shape (2, 3) and arr2 of shape (2, 2), perform multiplication using NumPy broadcasting. \n",
    "#               Handle the shape incompatibility.\n",
    "\n",
    "arr1 = np.random.randint(1,10,(2,3))\n",
    "arr2 = np.random.randint(1,10,(2,2))\n",
    "\n",
    "sliced_array = arr1[:, :arr2.shape[0]]\n",
    "\n",
    "sliced_array * arr2"
   ]
  },
  {
   "cell_type": "code",
   "execution_count": 351,
   "id": "a40f41c2-8e34-42c6-b6dd-769c91d1ed6f",
   "metadata": {},
   "outputs": [
    {
     "data": {
      "text/plain": [
       "array([2.5, 3.5, 4.5])"
      ]
     },
     "execution_count": 351,
     "metadata": {},
     "output_type": "execute_result"
    }
   ],
   "source": [
    "# Question 41.) Calculate column-wise mean for the given array:\n",
    "\n",
    "arr = np.array([[1,2,3], [4,5,6]])\n",
    "\n",
    "np.mean(arr,axis = 0)"
   ]
  },
  {
   "cell_type": "code",
   "execution_count": 353,
   "id": "855f91ac-9c15-44cd-ada5-568b6349db3a",
   "metadata": {},
   "outputs": [
    {
     "data": {
      "text/plain": [
       "array([3, 6])"
      ]
     },
     "execution_count": 353,
     "metadata": {},
     "output_type": "execute_result"
    }
   ],
   "source": [
    "# Question 42.) Find maximum value in each row of the given array:\n",
    "\n",
    "arr = np.array([[1,2,3], [4,5,6]])\n",
    "np.max(arr,axis = 1)"
   ]
  },
  {
   "cell_type": "code",
   "execution_count": 367,
   "id": "f4bd255b-248d-4f41-87a1-0aedaabfc694",
   "metadata": {},
   "outputs": [
    {
     "data": {
      "text/plain": [
       "array([1, 1, 1], dtype=int64)"
      ]
     },
     "execution_count": 367,
     "metadata": {},
     "output_type": "execute_result"
    }
   ],
   "source": [
    "# Question 43.) For the given array, find indices of maximum value in each column.\n",
    "\n",
    "arr = np.array([[1,2,3], [4,5,6]])\n",
    "np.argmax(arr,axis = 0)"
   ]
  },
  {
   "cell_type": "code",
   "execution_count": 401,
   "id": "295d6a36-46bc-43c4-b1fa-a91cd288bc7f",
   "metadata": {},
   "outputs": [
    {
     "name": "stdout",
     "output_type": "stream",
     "text": [
      "[[ 1  3  6]\n",
      " [ 4  9 15]]\n"
     ]
    }
   ],
   "source": [
    "# Question 44.) For the given array, apply custom function to calculate moving sum along rows.\n",
    "\n",
    "def moving_sum(arr):\n",
    "    rows, cols = arr.shape\n",
    "    result = np.zeros((rows, cols), dtype=int)\n",
    "\n",
    "    for i in range(rows):\n",
    "        for j in range(cols):\n",
    "            result[i][j] = np.sum(arr[i,:j+1])\n",
    "\n",
    "    return result\n",
    "\n",
    "arr = np.array([[1,2,3], [4,5,6]])\n",
    "print(moving_sum(arr))"
   ]
  },
  {
   "cell_type": "code",
   "execution_count": 4,
   "id": "48dbc228-2d4d-454f-96b0-51d427ca07b5",
   "metadata": {},
   "outputs": [
    {
     "name": "stdout",
     "output_type": "stream",
     "text": [
      "[False False False]\n"
     ]
    }
   ],
   "source": [
    "# Question 45.) In the given array, check if all elements in each column are even.\n",
    "\n",
    "arr = np.array([[2,4,6], [3,5,7]])\n",
    "print(np.all(arr % 2 == 0, axis=0))"
   ]
  },
  {
   "cell_type": "code",
   "execution_count": 26,
   "id": "858a3ca5-7790-4e85-a4e8-46b8d4561295",
   "metadata": {},
   "outputs": [
    {
     "name": "stdout",
     "output_type": "stream",
     "text": [
      "[[1 2 3]\n",
      " [4 5 6]]\n"
     ]
    }
   ],
   "source": [
    "# Question 46.) Given a NumPy array arr, reshape it into a matrix of dimensions `m` rows and `n` columns. Return the reshaped matrix.\n",
    "\n",
    "def reshape_to_matrix(arr,m,n):\n",
    "    return arr.reshape(m,n)\n",
    "\n",
    "original_array = np.array([1,2,3,4,5,6])\n",
    "arr1 = reshape_to_matrix(original_array,2,3)\n",
    "\n",
    "print(arr1)"
   ]
  },
  {
   "cell_type": "code",
   "execution_count": 28,
   "id": "db30721c-91bb-4e58-8d5d-1af4a0d83d7a",
   "metadata": {},
   "outputs": [
    {
     "name": "stdout",
     "output_type": "stream",
     "text": [
      "[1 2 3 4 5 6]\n"
     ]
    }
   ],
   "source": [
    "# Question 47.) Create a function that takes a matrix as input and returns the flattened array.\n",
    "\n",
    "def flatten_to_array(matrix):\n",
    "    return matrix.flatten()\n",
    "\n",
    "input_matrix = np.array([[1,2,3], [4,5,6]])\n",
    "flatten_array = flatten_to_array(input_matrix)\n",
    "\n",
    "print(flatten_array)"
   ]
  },
  {
   "cell_type": "code",
   "execution_count": 40,
   "id": "846885de-ab8d-4101-82c1-f5549ab4aa0d",
   "metadata": {},
   "outputs": [
    {
     "name": "stdout",
     "output_type": "stream",
     "text": [
      "[[1 2]\n",
      " [3 4]\n",
      " [5 6]\n",
      " [7 8]]\n"
     ]
    }
   ],
   "source": [
    "# Question 48.) Write a function that concatenates two given arrays along a specified axis.\n",
    "\n",
    "def concat(array1,array2,axis):\n",
    "    return np.concatenate((array1,array2),axis)\n",
    "\n",
    "array1 = np.array([[1,2], [3,4]])\n",
    "array2 = np.array([[5,6], [7,8]])\n",
    "\n",
    "array = concat(array1,array2,0)\n",
    "\n",
    "print(array)"
   ]
  },
  {
   "cell_type": "code",
   "execution_count": 68,
   "id": "198d955f-a097-4e3c-9a4a-6eee2eb47741",
   "metadata": {},
   "outputs": [
    {
     "name": "stdout",
     "output_type": "stream",
     "text": [
      "1 array is [[1 2 3]]\n",
      "2 array is [[4 5 6]]\n",
      "3 array is [[7 8 9]]\n"
     ]
    }
   ],
   "source": [
    "# Question 49.) Create a function that splits an array into multiple sub-arrays along a specified axis.\n",
    "\n",
    "def split_array(array,num,axis):\n",
    "    return np.split(array,num,axis)\n",
    "\n",
    "original_array = np.array([[1,2,3], [4,5,6], [7,8,9]])\n",
    "\n",
    "splited_array = split_array(original_array,3,axis = 0)\n",
    "for idx,arr in enumerate(splited_array):\n",
    "    print(f\"{idx+1} array is {arr}\")"
   ]
  },
  {
   "cell_type": "code",
   "execution_count": 82,
   "id": "6ce2faf3-e6da-4534-8ae6-2358b38ea298",
   "metadata": {},
   "outputs": [
    {
     "name": "stdout",
     "output_type": "stream",
     "text": [
      "[ 1 10  4 11  5]\n"
     ]
    }
   ],
   "source": [
    "# Question 50.) Write a function that inserts and then deletes elements from a given array at specified indices.\n",
    "\n",
    "def insert_N_delete(array,indices_to_insert,values_to_insert,indices_to_delete):\n",
    "    array = np.insert(array,indices_to_insert,values_to_insert)\n",
    "    array = np.delete(array,indices_to_delete)\n",
    "    return array\n",
    "\n",
    "if __name__ == \"__main__\":\n",
    "    original_array = np.array([1,2,3,4,5])\n",
    "    indices_to_insert = np.array([2,4])\n",
    "    values_to_insert = np.array([10,11])\n",
    "    indices_to_delete = np.array([1,3])\n",
    "\n",
    "    modified_array = insert_N_delete(original_array,indices_to_insert,values_to_insert,indices_to_delete)\n",
    "\n",
    "    print(modified_array)"
   ]
  },
  {
   "cell_type": "code",
   "execution_count": 102,
   "id": "7089e662-dca1-42e2-8323-62ad6d2ffe40",
   "metadata": {},
   "outputs": [
    {
     "name": "stdout",
     "output_type": "stream",
     "text": [
      "Array1\n",
      " [[9 7 6]\n",
      " [3 5 8]] \n",
      "\n",
      "Array2\n",
      " [[5 5 7]\n",
      " [1 7 2]] \n",
      "\n",
      "Element wise added array\n",
      " [[14 12 13]\n",
      " [ 4 12 10]]\n"
     ]
    }
   ],
   "source": [
    "# Question 51.) Create a NumPy array `arr1` with random integers and another array `arr2` with integers from 1 to 10.\n",
    "#               Perform element-wise addition between `arr1` and `arr2`.\n",
    "\n",
    "arr1 = np.random.randint(1,10, (2,3))\n",
    "print(\"Array1\\n\", arr1,\"\\n\")\n",
    "\n",
    "arr2 = np.random.randint(1,10, (2,3))\n",
    "print(\"Array2\\n\", arr2,\"\\n\")\n",
    "\n",
    "print(\"Element wise added array\\n\", arr1+arr2)"
   ]
  },
  {
   "cell_type": "code",
   "execution_count": 152,
   "id": "feee2445-a83e-4b9c-8e16-e3775f961c76",
   "metadata": {},
   "outputs": [
    {
     "name": "stdout",
     "output_type": "stream",
     "text": [
      "Array1\n",
      " [10  9  8  7  6  5  4  3  2  1] \n",
      "\n",
      "Array2\n",
      " [ 1  2  3  4  5  6  7  8  9 10] \n",
      "\n",
      "Element-wise subtracted array\n",
      " [ 9  7  5  3  1 -1 -3 -5 -7 -9]\n"
     ]
    }
   ],
   "source": [
    "# Question 52.) Generate a NumPy array `arr1` with sequential integers from 10 to 1 and another array `arr2` with integers from 1 to 10. \n",
    "#               Subtract `arr2` from `arr1` element-wise.\n",
    "\n",
    "arr1 = np.arange(10, 0,-1)\n",
    "print(\"Array1\\n\", arr1, \"\\n\")\n",
    "\n",
    "arr2 = np.arange(1, 11)\n",
    "print(\"Array2\\n\", arr2, \"\\n\")\n",
    "\n",
    "print(\"Element-wise subtracted array\\n\", arr1 - arr2)"
   ]
  },
  {
   "cell_type": "code",
   "execution_count": 140,
   "id": "8f715d95-48e6-405d-86cb-eaea1723ef79",
   "metadata": {},
   "outputs": [
    {
     "name": "stdout",
     "output_type": "stream",
     "text": [
      "Array1\n",
      " [[5 2 4 4 4]] \n",
      "\n",
      "Array2\n",
      " [[1 2 3 3 3]] \n",
      "\n",
      "Element wise multiplied array\n",
      " [[ 5  4 12 12 12]]\n"
     ]
    }
   ],
   "source": [
    "# Question 53.) Create a NumPy array `arr1` with random integers and another array `arr2` with integers from 1 to 5.\n",
    "#               Perform element-wise multiplication between `arr1` and `arr2`.\n",
    "\n",
    "arr1 = np.random.randint(1,6,(1,5))\n",
    "print(\"Array1\\n\", arr1,\"\\n\")\n",
    "\n",
    "arr2 = np.random.randint(1,6,(1,5))\n",
    "print(\"Array2\\n\", arr2,\"\\n\")\n",
    "\n",
    "print(\"Element wise multiplied array\\n\", arr1*arr2)"
   ]
  },
  {
   "cell_type": "code",
   "execution_count": 154,
   "id": "56afd9bf-3166-4bac-b5cd-a022db366142",
   "metadata": {},
   "outputs": [
    {
     "name": "stdout",
     "output_type": "stream",
     "text": [
      "Array1\n",
      " [ 2  4  6  8 10] \n",
      "\n",
      "Array2\n",
      " [1 2 3 4 5] \n",
      "\n",
      "Element-wise division array\n",
      " [2. 2. 2. 2. 2.]\n"
     ]
    }
   ],
   "source": [
    "# Question 54.) Generate a NumPy array `arr1` with even integers from 2 to 10 and another array `arr2` with integers from 1 to 5. \n",
    "#               Perform element-wise division of `arr1` by `arr2`.\n",
    "\n",
    "arr1 = np.arange(2,11,step = 2)\n",
    "print(\"Array1\\n\", arr1, \"\\n\")\n",
    "\n",
    "arr2 = np.arange(1, 6)\n",
    "print(\"Array2\\n\", arr2, \"\\n\")\n",
    "\n",
    "print(\"Element-wise division array\\n\", arr1 / arr2)"
   ]
  },
  {
   "cell_type": "code",
   "execution_count": 162,
   "id": "87258d1e-45c4-4b9d-be51-01ac8aea081c",
   "metadata": {},
   "outputs": [
    {
     "name": "stdout",
     "output_type": "stream",
     "text": [
      "Array1\n",
      " [1 2 3 4 5] \n",
      "\n",
      "Array2\n",
      " [5 4 3 2 1] \n",
      "\n",
      "Element-wise division array\n",
      " [ 1 16 27 16  5]\n"
     ]
    }
   ],
   "source": [
    "# Question 55.) Create a NumPy array `arr1` with integers from 1 to 5 and another array `arr2` with the same numbers reversed. \n",
    "#               Calculate the exponentiation of `arr1` raised to the power of `arr2` element-wise.\n",
    "\n",
    "arr1 = np.arange(1,6)\n",
    "print(\"Array1\\n\", arr1, \"\\n\")\n",
    "\n",
    "arr2 = np.arange(5,0,-1)\n",
    "print(\"Array2\\n\", arr2, \"\\n\")\n",
    "\n",
    "print(\"Element-wise division array\\n\", np.power(arr1,arr2))"
   ]
  },
  {
   "cell_type": "code",
   "execution_count": 182,
   "id": "83250521-b8fc-4f25-8694-6a0b5c0b324b",
   "metadata": {},
   "outputs": [
    {
     "name": "stdout",
     "output_type": "stream",
     "text": [
      "3\n"
     ]
    }
   ],
   "source": [
    "# Question 56.) Write a function that counts the occurrences of a specific substring within a NumPy array of strings.\n",
    "\n",
    "def count(arr,substring):\n",
    "    count = np.array([s.count(substring) for s in arr])\n",
    "    return np.sum(count)\n",
    "\n",
    "arr = np.array(['hello', 'world', 'hello', 'numpy', 'hello'])\n",
    "print(count(arr,'hello'))"
   ]
  },
  {
   "cell_type": "code",
   "execution_count": 14,
   "id": "4013b90a-7881-42e5-a524-d1946ba9494c",
   "metadata": {},
   "outputs": [
    {
     "name": "stdout",
     "output_type": "stream",
     "text": [
      "['H', 'W', 'O', 'A', 'I', 'G', 'P', 'T']\n"
     ]
    }
   ],
   "source": [
    "# Question 57.) Write a function that extracts uppercase characters from a NumPy array of strings.\n",
    "\n",
    "def extract_uppercase(arr):\n",
    "    upper_array = []\n",
    "\n",
    "    for s in arr:\n",
    "        upper_array.extend([char for char in s if char.isupper()])\n",
    "    return upper_array\n",
    "\n",
    "arr = np.array(['Hello', 'World', 'OpenAI', 'GPT'])\n",
    "uppercase_array = extract_uppercase(arr)\n",
    "print(uppercase_array)"
   ]
  },
  {
   "cell_type": "code",
   "execution_count": 16,
   "id": "6ceaae94-9aef-4b38-9bfb-091d08edcc34",
   "metadata": {},
   "outputs": [
    {
     "name": "stdout",
     "output_type": "stream",
     "text": [
      "['bpple' 'bbnbnb' 'grbpe' 'pinebpple']\n"
     ]
    }
   ],
   "source": [
    "# Question 58.) Write a function that replaces occurrences of a substring in a NumPy array of strings with a new string.\n",
    "\n",
    "def replace(arr,old_substring, new_substring):\n",
    "    return np.char.replace(arr,old_substring,new_substring)\n",
    "\n",
    "arr = np.array(['apple', 'banana', 'grape', 'pineapple'])\n",
    "new_arr = replace(arr,'a','b')\n",
    "print(new_arr)"
   ]
  },
  {
   "cell_type": "code",
   "execution_count": 24,
   "id": "40d43e95-baa4-46ed-b994-4a11bc9ecb25",
   "metadata": {},
   "outputs": [
    {
     "name": "stdout",
     "output_type": "stream",
     "text": [
      "['HelloOpen' 'WorldAI']\n"
     ]
    }
   ],
   "source": [
    "# Question 59.) Write a function that concatenates strings in a NumPy array element-wise.\n",
    "\n",
    "def concat(arr1,arr2):\n",
    "    return np.char.add(arr1, arr2)\n",
    "\n",
    "arr1 = np.array(['Hello', 'World'])\n",
    "arr2 = np.array(['Open', 'AI'])\n",
    "\n",
    "print(concat(arr1,arr2))"
   ]
  },
  {
   "cell_type": "code",
   "execution_count": 28,
   "id": "9cae7c84-317a-4c32-a928-0a74e812477f",
   "metadata": {},
   "outputs": [
    {
     "name": "stdout",
     "output_type": "stream",
     "text": [
      "9\n"
     ]
    }
   ],
   "source": [
    "# Question 60.) Write a function that finds the length of the longest string in a NumPy array.\n",
    "\n",
    "def find_max(arr):\n",
    "    max = 0\n",
    "    for i in arr:\n",
    "        if len(i) > max:\n",
    "            max = len(i)\n",
    "            \n",
    "    return max\n",
    "\n",
    "arr = np.array(['apple', 'banana', 'grape', 'pineapple'])\n",
    "print(find_max(arr))"
   ]
  },
  {
   "cell_type": "code",
   "execution_count": 36,
   "id": "7c8da43f-75d9-448d-a7b2-e18c54ba2b14",
   "metadata": {},
   "outputs": [
    {
     "name": "stdout",
     "output_type": "stream",
     "text": [
      "Dataset: [322 711 228 629 693 141 720 510 857 964 761 286 690 937 571 377 244 282\n",
      " 426 356 790  65 802 992 295  18  15 306 943 347 644 410 558 848 610 429\n",
      "  61 938 843 889 372 108 183 218 360 884  15  22 967 401 192  11 590 467\n",
      " 473 353 104 392 510 419 506 918 166 198 298 591 205 904 431 275  34 184\n",
      " 674 105 305 891 665 138 905 279 490 577 498  83 374 888 798 486 978 643\n",
      "  59 427 528 668 621  33 445 103 374   9]\n",
      "Mean: 463.03\n",
      "Median: 428.0\n",
      "Variance: 83957.64910000002\n",
      "Standard Deviation: 289.754463468641\n"
     ]
    }
   ],
   "source": [
    "# Question 61.) Create a dataset of 100 random integers between 1 and 1000. Compute the mean, median, variance, and standard deviation of the\n",
    "#               dataset using NumPy's functions.\n",
    "\n",
    "dataset = np.random.randint(1,1001,size = 100)\n",
    "\n",
    "print(f\"Dataset: {dataset}\")\n",
    "print(f\"Mean: {np.mean(dataset)}\")\n",
    "print(f\"Median: {np.median(dataset)}\")\n",
    "print(f\"Variance: {np.var(dataset)}\")\n",
    "print(f\"Standard Deviation: {np.std(dataset)}\")"
   ]
  },
  {
   "cell_type": "code",
   "execution_count": 38,
   "id": "c4f5ee6e-7c6d-45ca-865e-19969aa5ae18",
   "metadata": {},
   "outputs": [
    {
     "name": "stdout",
     "output_type": "stream",
     "text": [
      "Array: [83 61 81  7 34 69 57 90 72 96  7 95 61 52 28 60 70 37 96 15 94 34 56 71\n",
      " 23 58 49 87 12 63 69  4 68 21 23 44  8 61 48 72 86 18  9 22 18 28 32 57\n",
      " 80 79]\n",
      "25th Percentile: 24.25\n",
      "75th Percentile: 71.75\n"
     ]
    }
   ],
   "source": [
    "# Question 62.) Generate an array of 50 random numbers between 1 and 100. Find the 25th and 75th percentiles of the dataset.\n",
    "\n",
    "array = np.random.randint(1,101,size = 50)\n",
    "\n",
    "print(f\"Array: {array}\")\n",
    "print(f\"25th Percentile: {np.percentile(array,25)}\")\n",
    "print(f\"75th Percentile: {np.percentile(array,75)}\")"
   ]
  },
  {
   "cell_type": "code",
   "execution_count": 44,
   "id": "c5cfb59c-3e27-4fa1-ae4b-548c7767bf2c",
   "metadata": {},
   "outputs": [
    {
     "name": "stdout",
     "output_type": "stream",
     "text": [
      "Correlation betweemn two arrays is\n",
      " [[ 1.         -0.09236465]\n",
      " [-0.09236465  1.        ]]\n"
     ]
    }
   ],
   "source": [
    "# Question 63.) Create two arrays representing two sets of variables. Compute the correlation coefficient between these arrays using \n",
    "#               NumPy's `corrcoef` function.\n",
    "\n",
    "arr1 = np.random.randint(1,101,size = 50)\n",
    "arr2 = np.random.randint(1,101,size = 50)\n",
    "print(\"Correlation betweemn two arrays is\\n\",np.corrcoef(arr1,arr2))"
   ]
  },
  {
   "cell_type": "code",
   "execution_count": 46,
   "id": "45bca75a-8c0d-4578-9913-19d7fee303e5",
   "metadata": {},
   "outputs": [
    {
     "name": "stdout",
     "output_type": "stream",
     "text": [
      "[[ 62 149  58 142]\n",
      " [ 57 122  83 166]\n",
      " [ 86 193  55 168]]\n"
     ]
    }
   ],
   "source": [
    "# Question 64.) Create two matrices and perform matrix multiplication using NumPy's `dot` function.\n",
    "\n",
    "arr1 = np.random.randint(1,11,(3,4))\n",
    "arr2 = np.random.randint(1,11,(4,4))\n",
    "\n",
    "print(np.dot(arr1,arr2))"
   ]
  },
  {
   "cell_type": "code",
   "execution_count": 50,
   "id": "60e51d07-6ccd-406c-b081-2064e3d7c790",
   "metadata": {},
   "outputs": [
    {
     "name": "stdout",
     "output_type": "stream",
     "text": [
      "Array: [172 744  75 839  35 327  26 933 543 853 941  78 940 450 839 519 863 378\n",
      " 423 715 904 442 177 732 392 174 413 206 834 228 455 751 429 150 308 840\n",
      " 126 827 799 989 359 966 936 325  55 736 213 409 402  92]\n",
      "10th Median: 90.60000000000001\n",
      "50th Median: 435.5\n",
      "90th Percentile: 933.3\n",
      "1st Quartile: 216.75\n",
      "3rd Quartile: 832.25\n"
     ]
    }
   ],
   "source": [
    "# Question 65.) Create an array of 50 integers between 10 and 1000. Calculate the 10th, 50th (median), and 90th percentiles along with the first and \n",
    "#               third quartiles.\n",
    "\n",
    "array = np.random.randint(10, 1001, size=50)\n",
    "\n",
    "print(\"Array:\", array)\n",
    "print(\"10th Median:\", np.percentile(array, 10))\n",
    "print(\"50th Median:\", np.percentile(array, 50))\n",
    "print(\"90th Percentile:\", np.percentile(array, 90))\n",
    "print(\"1st Quartile:\", np.percentile(array, 25))\n",
    "print(\"3rd Quartile:\", np.percentile(array, 75))"
   ]
  },
  {
   "cell_type": "code",
   "execution_count": 58,
   "id": "db7b32dc-4eaa-448e-89ac-5705b80b91d7",
   "metadata": {},
   "outputs": [
    {
     "name": "stdout",
     "output_type": "stream",
     "text": [
      "[10 20 30 40 50 60 70 50 80 90]\n",
      "4\n"
     ]
    }
   ],
   "source": [
    "# Question 66.) Create a NumPy array of integers and find the index of a specific element.\n",
    "\n",
    "arr = np.array([10, 20, 30, 40, 50, 60, 70, 50, 80, 90])\n",
    "element = 50\n",
    "\n",
    "indices = np.where(arr == element)\n",
    "print(arr)\n",
    "print(indices[0][0])"
   ]
  },
  {
   "cell_type": "code",
   "execution_count": 69,
   "id": "6f246b3d-618c-4cf2-8251-2e1f1c8d7bc3",
   "metadata": {},
   "outputs": [
    {
     "name": "stdout",
     "output_type": "stream",
     "text": [
      "Unsorted array\n",
      " [[2 9 9 2 4 8 9 1 3 5]]\n",
      "Sorted array\n",
      " [[1 2 2 3 4 5 8 9 9 9]]\n"
     ]
    }
   ],
   "source": [
    "# Question 67.) Generate a random NumPy array and sort it in ascending order.\n",
    "\n",
    "arr = np.random.randint(1,10,(1,10))\n",
    "print(\"Unsorted array\\n\",arr)\n",
    "print(\"Sorted array\\n\",np.sort(arr))"
   ]
  },
  {
   "cell_type": "code",
   "execution_count": 73,
   "id": "0f085648-cc07-42e7-8201-dd04ee6d443e",
   "metadata": {},
   "outputs": [
    {
     "name": "stdout",
     "output_type": "stream",
     "text": [
      "Filtered array [25 42 30]\n"
     ]
    }
   ],
   "source": [
    "# Question 68.) Filter elements >20  in the given NumPy array.\n",
    "\n",
    "arr = np.array([12,25,6,42,8,30])\n",
    "print(\"Filtered array\", arr[arr>20])"
   ]
  },
  {
   "cell_type": "code",
   "execution_count": 75,
   "id": "c1f890bd-3955-4899-8812-044df4043b24",
   "metadata": {},
   "outputs": [
    {
     "name": "stdout",
     "output_type": "stream",
     "text": [
      "Filtered array [12 15]\n"
     ]
    }
   ],
   "source": [
    "# Question 69.) Filter elements which are divisible by 3 from a given NumPy array.\n",
    "\n",
    "arr = np.array([1,5,8,12,15])\n",
    "print(\"Filtered array\", arr[arr%3 == 0])"
   ]
  },
  {
   "cell_type": "code",
   "execution_count": 5,
   "id": "b3dbf167-75dc-4c04-aa6e-edcfb316a044",
   "metadata": {},
   "outputs": [
    {
     "name": "stdout",
     "output_type": "stream",
     "text": [
      "Filtered array [20 30 40]\n"
     ]
    }
   ],
   "source": [
    "# Question 70.) Filter elements which are ≥ 20 and ≤ 40 from a given NumPy array.\n",
    "\n",
    "arr = np.array([10,20,30,40,50])\n",
    "print(\"Filtered array\", arr[(arr>=20) & (arr<=40)])"
   ]
  },
  {
   "cell_type": "code",
   "execution_count": 13,
   "id": "881a152e-7cf1-474c-9e91-41be2d77b703",
   "metadata": {},
   "outputs": [
    {
     "name": "stdout",
     "output_type": "stream",
     "text": [
      "Byte order of the array is:  =\n"
     ]
    }
   ],
   "source": [
    "# Question 71.) For the given NumPy array, check its byte order using the `dtype` attribute byteorder.\n",
    "\n",
    "arr = np.array([1,2,3])\n",
    "print(\"Byte order of the array is: \",arr.dtype.byteorder)"
   ]
  },
  {
   "cell_type": "code",
   "execution_count": 19,
   "id": "c665fcb2-2cf3-4adc-9fdc-04a176e664d2",
   "metadata": {},
   "outputs": [
    {
     "name": "stdout",
     "output_type": "stream",
     "text": [
      "Byteorder before byteswap: =\n",
      "Byteorder after byteswap: =\n"
     ]
    }
   ],
   "source": [
    "# Question 72.) For the given NumPy array, perform byte swapping in place using `byteswap()`.\n",
    "\n",
    "arr = np.array([1,2,3], dtype = np.int32)\n",
    "\n",
    "print(\"Byteorder before byteswap:\", arr.dtype.byteorder)\n",
    "arr.byteswap(inplace = True)\n",
    "print(\"Byteorder after byteswap:\", arr.dtype.byteorder)"
   ]
  },
  {
   "cell_type": "code",
   "execution_count": 25,
   "id": "b65741cf-f9ba-44c8-b774-03f618aaa829",
   "metadata": {},
   "outputs": [
    {
     "name": "stdout",
     "output_type": "stream",
     "text": [
      "Byteorder before byteswap: =\n",
      "Byteorder after byteswap: >\n"
     ]
    }
   ],
   "source": [
    "# Question 73.) For the given NumPy array, swap its byte order without modifying the original array using `newbyteorder()`.\n",
    "\n",
    "arr = np.array([1,2,3], dtype = np.int32)\n",
    "\n",
    "print(\"Byteorder before byteswap:\", arr.dtype.byteorder)\n",
    "arr1 = arr.newbyteorder()\n",
    "print(\"Byteorder after byteswap:\", arr1.dtype.byteorder)"
   ]
  },
  {
   "cell_type": "code",
   "execution_count": 33,
   "id": "42323262-79d9-4075-801c-005077fae796",
   "metadata": {},
   "outputs": [
    {
     "name": "stdout",
     "output_type": "stream",
     "text": [
      "No need of swapping\n"
     ]
    }
   ],
   "source": [
    "# Question 74.) For the given NumPy array and swap its byte order conditionally based on system endianness using `newbyteorder()`.\n",
    "\n",
    "import sys\n",
    "arr = np.array([1,2,3], dtype = np.int32)\n",
    "\n",
    "sys_endianness = sys.byteorder\n",
    "arr_byteorder = arr.dtype.byteorder\n",
    "\n",
    "if ((arr_byteorder == '<' and sys_endianness == 'big') or \n",
    "   (arr_byteorder == '>' and sys_endianness == 'little')):\n",
    "    swapped_arr = arr.newbyteorder()\n",
    "    print(\"Swapped array:\",swapped_arr)\n",
    "else:\n",
    "    print(\"No need of swapping\")"
   ]
  },
  {
   "cell_type": "code",
   "execution_count": 37,
   "id": "45fa34a6-56a5-4a50-9103-f9a268056c48",
   "metadata": {},
   "outputs": [
    {
     "name": "stdout",
     "output_type": "stream",
     "text": [
      "No need of swapping\n"
     ]
    }
   ],
   "source": [
    "# Question 75.) For the given NumPy array, check if byte swapping is necessary for the current system using `dtype` attribute `byteorder`.\n",
    "\n",
    "arr = np.array([1,2,3], dtype = np.int32)\n",
    "\n",
    "sys_endianness = sys.byteorder\n",
    "arr_byteorder = arr.dtype.byteorder\n",
    "\n",
    "if ((arr_byteorder == '<' and sys_endianness == 'big') or \n",
    "   (arr_byteorder == '>' and sys_endianness == 'little')):\n",
    "    print(\"Byte swapping is necessary.\")\n",
    "else:\n",
    "    print(\"No need of swapping\")"
   ]
  },
  {
   "cell_type": "code",
   "execution_count": 69,
   "id": "910a2f55-13d0-43b7-8bc1-563a58c20988",
   "metadata": {},
   "outputs": [
    {
     "name": "stdout",
     "output_type": "stream",
     "text": [
      "Array one: [ 4  8  1 10  9  8 10  4  7  7]\n",
      "Change in copy_arr doesn't affected arr1\n"
     ]
    }
   ],
   "source": [
    "# Question 76.) Create a NumPy array `arr1` with values from 1 to 10. Create a copy of `arr1` named `copy_arr` and modify an element in `copy_arr`. \n",
    "#               Check if modifying `copy_arr` affects `arr1`.\n",
    "\n",
    "arr1 = np.random.randint(1,11,(10))\n",
    "print(\"Array one:\", arr1)\n",
    "\n",
    "copy_arr = np.copy(arr1)\n",
    "copy_arr[0] = 100\n",
    "\n",
    "if(arr1[0] != copy_arr[0]):\n",
    "    print(\"Change in copy_arr doesn't affected arr1\")\n",
    "else:\n",
    "    print(\"Change in copy_arr affected arr1\")"
   ]
  },
  {
   "cell_type": "code",
   "execution_count": 71,
   "id": "dd42f3aa-b3ea-455b-b7ba-89c66ba40041",
   "metadata": {},
   "outputs": [
    {
     "name": "stdout",
     "output_type": "stream",
     "text": [
      "Matrix\n",
      " [[8 8 5]\n",
      " [5 6 3]\n",
      " [8 3 5]] \n",
      "\n",
      "View Slice\n",
      " [[8 5]\n",
      " [5 3]] \n",
      "\n",
      "Change in copy_arr doesn't affected arr1\n"
     ]
    }
   ],
   "source": [
    "# Question 77.) Create a 2D NumPy array `matrix` of shape (3, 3) with random integers. Extract a slice `view_slice` from the matrix. \n",
    "#               Modify an element in `view_slice` and observe if it changes the original `matrix`.\n",
    "\n",
    "array = np.random.randint(1,11,(3,3))\n",
    "\n",
    "print(\"Matrix\\n\",array,\"\\n\")\n",
    "view_slice = array[0:2,[0,2]]\n",
    "print(\"View Slice\\n\",view_slice,\"\\n\")\n",
    "\n",
    "view_slice[0][0] = 100\n",
    "if(array[0][0] != view_slice[0][0]):\n",
    "    print(\"Change in copy_arr doesn't affected arr1\")\n",
    "else:\n",
    "    print(\"Change in copy_arr affected arr1\")"
   ]
  },
  {
   "cell_type": "code",
   "execution_count": 91,
   "id": "eb4cd3c2-adc0-4b0e-a829-b70b734cd1b7",
   "metadata": {},
   "outputs": [
    {
     "name": "stdout",
     "output_type": "stream",
     "text": [
      "Broadcasting didn't affected the original array\n"
     ]
    }
   ],
   "source": [
    "# Question 78.) Create a NumPy array `array_a` of shape (4, 3) with sequential integers from 1 to 12. Extract a slice `view_b` from `array_a` and \n",
    "#               broadcast the addition of 5 to view_b. Check if it alters the original `array_a`.\n",
    "\n",
    "array_a = np.random.randint(1,13, (4,3))\n",
    "\n",
    "view_b = array_a[0:2,[0,2]]\n",
    "view_b = view_b+5\n",
    "\n",
    "if(array_a[0][0] == view_b[0][0]):\n",
    "    print(\"Broadcasting affected the original array\")\n",
    "else:\n",
    "    print(\"Broadcasting didn't affected the original array\")"
   ]
  },
  {
   "cell_type": "code",
   "execution_count": 93,
   "id": "81e1fe78-ea22-4b71-8b98-53e970cd8ffb",
   "metadata": {},
   "outputs": [
    {
     "name": "stdout",
     "output_type": "stream",
     "text": [
      "Broadcasting affected the original array\n"
     ]
    }
   ],
   "source": [
    "# Question 79.) Create a NumPy array `orig_array` of shape (2, 4) with values from 1 to 8. Create a reshaped view `reshaped_view` of shape (4, 2)\n",
    "#               from orig_array. Modify an element in `reshaped_view` and check if it reflects changes in the original `orig_array`.\n",
    "\n",
    "orig_array = np.arange(1, 9).reshape(2, 4)\n",
    "\n",
    "reshaped_view = orig_array.reshape(4, 2)\n",
    "\n",
    "reshaped_view[0, 0] = 99\n",
    "\n",
    "if(orig_array[0][0] == reshaped_view[0][0]):\n",
    "    print(\"Broadcasting affected the original array\")\n",
    "else:\n",
    "    print(\"Broadcasting didn't affected the original array\")"
   ]
  },
  {
   "cell_type": "code",
   "execution_count": 97,
   "id": "a9257de2-1697-4192-8e5c-27bc66e79156",
   "metadata": {},
   "outputs": [
    {
     "name": "stdout",
     "output_type": "stream",
     "text": [
      "Broadcasting didn't affected the original array\n"
     ]
    }
   ],
   "source": [
    "# Question 80.) Create a NumPy array `data` of shape (3, 4) with random integers. Extract a copy `data_copy` of elements greater than 5. \n",
    "#               Modify an element in `data_copy` and verify if it affects the original `data`.\n",
    "\n",
    "data = np.random.randint(1, 10, size=(3, 4))\n",
    "\n",
    "data_copy = data[data > 5].copy()\n",
    "\n",
    "data_copy[0] = 99\n",
    "\n",
    "if(data[0][0] == data_copy[0]):\n",
    "    print(\"Broadcasting affected the original array\")\n",
    "else:\n",
    "    print(\"Broadcasting didn't affected the original array\")"
   ]
  },
  {
   "cell_type": "code",
   "execution_count": 103,
   "id": "8f89b7a1-7aae-422b-bd18-93b2c5195f72",
   "metadata": {},
   "outputs": [
    {
     "name": "stdout",
     "output_type": "stream",
     "text": [
      "Array A\n",
      " [[7 8 2 7]\n",
      " [1 9 5 1]\n",
      " [2 8 8 5]] \n",
      "\n",
      "Array B\n",
      " [[1 4 2 1]\n",
      " [7 5 9 9]\n",
      " [8 9 1 4]] \n",
      "\n",
      "Addition\n",
      " [[ 8 12  4  8]\n",
      " [ 8 14 14 10]\n",
      " [10 17  9  9]] \n",
      "\n",
      "Subtraction\n",
      " [[ 6  4  0  6]\n",
      " [-6  4 -4 -8]\n",
      " [-6 -1  7  1]]\n"
     ]
    }
   ],
   "source": [
    "# Question 81.) Create two matrices A and B of identical shape containing integers and perform addition and subtraction operations between them.\n",
    "\n",
    "A = np.random.randint(1, 10, size=(3, 4))\n",
    "print(\"Array A\\n\",A,\"\\n\")\n",
    "B = np.random.randint(1, 10, size=(3, 4))\n",
    "print(\"Array B\\n\",B,\"\\n\")\n",
    "\n",
    "print(\"Addition\\n\",A+B,\"\\n\")\n",
    "print(\"Subtraction\\n\",A-B)"
   ]
  },
  {
   "cell_type": "code",
   "execution_count": 105,
   "id": "48e68f58-09f4-4b66-83cb-335f416bfe54",
   "metadata": {},
   "outputs": [
    {
     "name": "stdout",
     "output_type": "stream",
     "text": [
      "Array C\n",
      " [[2 7]\n",
      " [6 4]\n",
      " [8 4]] \n",
      "\n",
      "Array D\n",
      " [[1 1 6 3]\n",
      " [1 7 1 9]] \n",
      "\n",
      "Matrix Multiplication\n",
      " [[ 9 51 19 69]\n",
      " [10 34 40 54]\n",
      " [12 36 52 60]]\n"
     ]
    }
   ],
   "source": [
    "# Question 82.) Generate two matrices `C` (3x2) and `D` (2x4) and perform matrix multiplication.\n",
    "\n",
    "C = np.random.randint(1, 10, size=(3, 2))\n",
    "print(\"Array C\\n\",C,\"\\n\")\n",
    "D = np.random.randint(1, 10, size=(2, 4))\n",
    "print(\"Array D\\n\",D,\"\\n\")\n",
    "\n",
    "print(\"Matrix Multiplication\\n\",C @ D)"
   ]
  },
  {
   "cell_type": "code",
   "execution_count": 111,
   "id": "37907c3f-03c0-43b3-b1c2-13ab310f6d47",
   "metadata": {},
   "outputs": [
    {
     "name": "stdout",
     "output_type": "stream",
     "text": [
      "Array E\n",
      " [[9 6]\n",
      " [4 6]\n",
      " [9 1]] \n",
      "\n",
      "Transpose\n",
      " [[9 4 9]\n",
      " [6 6 1]]\n"
     ]
    }
   ],
   "source": [
    "# Question 83.) Create a matrix `E` and find its transpose\n",
    "\n",
    "E = np.random.randint(1, 10, size=(3, 2))\n",
    "print(\"Array E\\n\",E,\"\\n\")\n",
    "\n",
    "print(\"Transpose\\n\",np.transpose(E))"
   ]
  },
  {
   "cell_type": "code",
   "execution_count": 115,
   "id": "86fd0bbd-88ff-4464-b90b-8baa2f3672b6",
   "metadata": {},
   "outputs": [
    {
     "name": "stdout",
     "output_type": "stream",
     "text": [
      "Array F\n",
      " [[7 5 3]\n",
      " [6 7 1]\n",
      " [1 2 6]] \n",
      "\n",
      "Determinant 119.99999999999997\n"
     ]
    }
   ],
   "source": [
    "# Question 84.) Generate a square matrix `F` and compute its determinant.\n",
    "\n",
    "F = np.random.randint(1, 10, size=(3, 3))\n",
    "print(\"Array F\\n\",F,\"\\n\")\n",
    "\n",
    "print(\"Determinant\", np.linalg.det(F))"
   ]
  },
  {
   "cell_type": "code",
   "execution_count": 121,
   "id": "684fa3de-7e3c-4379-b124-46fb0708f87f",
   "metadata": {},
   "outputs": [
    {
     "name": "stdout",
     "output_type": "stream",
     "text": [
      "Array G\n",
      " [[4 2 6]\n",
      " [4 3 1]\n",
      " [2 3 2]] \n",
      "\n",
      "Inverse\n",
      " [[ 0.08333333  0.38888889 -0.44444444]\n",
      " [-0.16666667 -0.11111111  0.55555556]\n",
      " [ 0.16666667 -0.22222222  0.11111111]]\n"
     ]
    }
   ],
   "source": [
    "# Question 85.) Create a square matrix `G` and find its inverse.\n",
    "\n",
    "G = np.random.randint(1, 10, size=(3, 3))\n",
    "print(\"Array G\\n\",G,\"\\n\")\n",
    "\n",
    "print(\"Inverse\\n\", np.linalg.inv(G))"
   ]
  },
  {
   "cell_type": "code",
   "execution_count": null,
   "id": "38a7d0d8-d318-4dc1-bbf0-ce462efab55d",
   "metadata": {},
   "outputs": [],
   "source": []
  }
 ],
 "metadata": {
  "kernelspec": {
   "display_name": "Python 3 (ipykernel)",
   "language": "python",
   "name": "python3"
  },
  "language_info": {
   "codemirror_mode": {
    "name": "ipython",
    "version": 3
   },
   "file_extension": ".py",
   "mimetype": "text/x-python",
   "name": "python",
   "nbconvert_exporter": "python",
   "pygments_lexer": "ipython3",
   "version": "3.12.4"
  }
 },
 "nbformat": 4,
 "nbformat_minor": 5
}
